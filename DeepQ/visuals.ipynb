{
 "cells": [
  {
   "cell_type": "code",
   "execution_count": 1,
   "id": "56288773",
   "metadata": {},
   "outputs": [],
   "source": [
    "from os import listdir\n",
    "from ast import literal_eval\n",
    "import numpy as np\n",
    "import matplotlib.pyplot as plt\n",
    "from typing import *\n"
   ]
  },
  {
   "cell_type": "code",
   "execution_count": 12,
   "id": "b236656a",
   "metadata": {},
   "outputs": [],
   "source": [
    "PATH = \"Results/test1\""
   ]
  },
  {
   "cell_type": "code",
   "execution_count": 22,
   "id": "d797a450",
   "metadata": {},
   "outputs": [],
   "source": [
    "def find_ROC(arr: np.ndarray) -> np.ndarray:\n",
    "    x = np.arange(len(arr))\n",
    "    deriv1 = np.diff(arr) / np.diff(x)\n",
    "    return np.diff(deriv1)\n"
   ]
  },
  {
   "cell_type": "code",
   "execution_count": 23,
   "id": "4d5e10bb",
   "metadata": {},
   "outputs": [],
   "source": [
    "summary_file = [f\"{PATH}/{x}\" for x in listdir(PATH) if x[-4:] == \".txt\"]\n",
    "if len(summary_file) > 0:\n",
    "    summary_file = summary_file[0]\n",
    "    with open(summary_file, \"r\") as f:\n",
    "        profits = literal_eval(f.read())"
   ]
  },
  {
   "cell_type": "code",
   "execution_count": 24,
   "id": "c4e07d8c",
   "metadata": {},
   "outputs": [
    {
     "data": {
      "text/plain": [
       "20000"
      ]
     },
     "execution_count": 24,
     "metadata": {},
     "output_type": "execute_result"
    }
   ],
   "source": [
    "len(profits)"
   ]
  },
  {
   "cell_type": "code",
   "execution_count": 25,
   "id": "edb7841d",
   "metadata": {},
   "outputs": [
    {
     "data": {
      "text/plain": [
       "array([ 0.01755262,  0.01487257, -0.04404254, ..., -0.07663859,\n",
       "       -0.00638478,  0.02421782])"
      ]
     },
     "execution_count": 25,
     "metadata": {},
     "output_type": "execute_result"
    }
   ],
   "source": [
    "cum_profit = np.cumsum(profits)\n",
    "roc = find_ROC(cum_profit)\n",
    "roc"
   ]
  },
  {
   "cell_type": "code",
   "execution_count": 27,
   "id": "e0d55916",
   "metadata": {},
   "outputs": [
    {
     "data": {
      "text/plain": [
       "[<matplotlib.lines.Line2D at 0x7fef15874dc0>]"
      ]
     },
     "execution_count": 27,
     "metadata": {},
     "output_type": "execute_result"
    },
    {
     "data": {
      "image/png": "[encoded data removed]",
      "text/plain": [
       "<Figure size 432x288 with 1 Axes>"
      ]
     },
     "metadata": {
      "needs_background": "light"
     },
     "output_type": "display_data"
    }
   ],
   "source": [
    "plt.plot(roc)\n"
   ]
  },
  {
   "cell_type": "code",
   "execution_count": null,
   "id": "eff1e339",
   "metadata": {},
   "outputs": [],
   "source": []
  }
 ],
 "metadata": {
  "kernelspec": {
   "display_name": "Python 3 (ipykernel)",
   "language": "python",
   "name": "python3"
  },
  "language_info": {
   "codemirror_mode": {
    "name": "ipython",
    "version": 3
   },
   "file_extension": ".py",
   "mimetype": "text/x-python",
   "name": "python",
   "nbconvert_exporter": "python",
   "pygments_lexer": "ipython3",
   "version": "3.9.7"
  }
 },
 "nbformat": 4,
 "nbformat_minor": 5
}
