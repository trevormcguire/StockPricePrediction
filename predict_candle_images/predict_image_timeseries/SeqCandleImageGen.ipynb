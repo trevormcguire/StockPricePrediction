{
  "nbformat": 4,
  "nbformat_minor": 0,
  "metadata": {
    "colab": {
      "name": "SeqCandleImageGen.ipynb",
      "provenance": [],
      "machine_shape": "hm"
    },
    "kernelspec": {
      "name": "python3",
      "display_name": "Python 3"
    },
    "language_info": {
      "name": "python"
    }
  },
  "cells": [
    {
      "cell_type": "code",
      "metadata": {
        "colab": {
          "base_uri": "https://localhost:8080/"
        },
        "id": "fGy7sf5xOLan",
        "outputId": "729463f3-90f4-467c-daa2-d8adce4619b0"
      },
      "source": [
        "import numpy as np\n",
        "import pandas as pd\n",
        "from os import listdir, path\n",
        "import matplotlib.pyplot as plt\n",
        "import matplotlib as mpl\n",
        "from typing import *\n",
        "import math\n",
        "import sys\n",
        "from copy import deepcopy\n",
        "from random import sample\n",
        "\n",
        "def _is_colab() -> bool:\n",
        "    return 'google.colab' in sys.modules\n",
        "\n",
        "def mount_drive():\n",
        "    if _is_colab():\n",
        "        from google.colab import drive\n",
        "        drive.mount(\"/content/gdrive\")\n",
        "\n",
        "mount_drive()"
      ],
      "execution_count": 1,
      "outputs": [
        {
          "output_type": "stream",
          "name": "stdout",
          "text": [
            "Mounted at /content/gdrive\n"
          ]
        }
      ]
    },
    {
      "cell_type": "code",
      "metadata": {
        "id": "cBV6lSPsOZ-6"
      },
      "source": [
        "def get_candlestick_color(close: float, open: float) -> str:\n",
        "    if close > open:\n",
        "        return 'white'\n",
        "    elif close < open:\n",
        "        return 'black'\n",
        "    else:\n",
        "        return 'gray'\n",
        "\n",
        "def candlestick_plot(data: pd.DataFrame, save_as: str = None):\n",
        "    x = np.arange(len(data))\n",
        "    fig, ax = plt.subplots(1, figsize=(3,3))\n",
        "    for idx, val in data.iterrows():\n",
        "        o,h,l,c = val['open'], val['high'], val['low'], val['close']\n",
        "        clr = get_candlestick_color(c, o)\n",
        "        x_idx = x[idx]\n",
        "        plt.plot([x_idx, x_idx], [l, h], color=clr) #wick\n",
        "        plt.plot([x_idx, x_idx], [o, o], color=clr) #open marker\n",
        "        plt.plot([x_idx, x_idx], [c, c], color=clr) #close marker\n",
        "        rect = mpl.patches.Rectangle((x_idx-0.5, o), 1, (c - o), facecolor=clr, edgecolor='black', linewidth=1, zorder=3)\n",
        "        ax.add_patch(rect)\n",
        "    plt.axis('off')\n",
        "    if type(save_as) is str:\n",
        "        plt.savefig(save_as, bbox_inches=\"tight\", pad_inches = 0)\n",
        "        plt.close(\"all\")\n",
        "        plt.ioff()\n",
        "    else:\n",
        "        plt.show()\n",
        "\n",
        "\n"
      ],
      "execution_count": 2,
      "outputs": []
    },
    {
      "cell_type": "code",
      "metadata": {
        "id": "SZd0-XAoOfo1"
      },
      "source": [
        "class ImageGenerator:\n",
        "    def __init__(self, \n",
        "                 input_path: str,\n",
        "                 tickers: List[str], \n",
        "                 output_path: str, \n",
        "                 period: int):\n",
        "        self.input_path = input_path\n",
        "        self.tickers = [x.replace(\".csv\", \"\") for x in tickers]\n",
        "        self.output_path = output_path\n",
        "        self.period = period\n",
        "        self.__param_handler()\n",
        "\n",
        "    def __param_handler(self):\n",
        "        assert path.exists(self.input_path), f\"Input path at {self.input_path} doesn't exist.\"\n",
        "        assert path.exists(self.output_path), f\"Output path at {self.output_path} doesn't exist.\"\n",
        "        files = listdir(self.input_path)\n",
        "        filtered_tickers = []\n",
        "        for t in self.tickers:\n",
        "            if f\"{t}.csv\" in files:\n",
        "                filtered_tickers.append(t)\n",
        "            else:\n",
        "                print(f\"{t}.csv doesn't exist. Skipping...\")\n",
        "        self.tickers = filtered_tickers\n",
        "\n",
        "    def __load_as_df(self, ticker: str) -> pd.DataFrame:\n",
        "        try:\n",
        "            return pd.read_csv(f\"{self.input_path}/{ticker}.csv\")[[\"open\", \"high\", \"low\", \"close\"]]\n",
        "        except:\n",
        "            return None\n",
        "\n",
        "    def generate(self):\n",
        "        ct = 0\n",
        "        for ticker in self.tickers:\n",
        "            df = self.__load_as_df(ticker)\n",
        "            if not df is None:\n",
        "                for idx in range(len(df) - self.period - 2):\n",
        "                    data = df.iloc[idx:idx + self.period].reset_index(drop=True)\n",
        "                    candlestick_plot(data, save_as=f\"{self.output_path}/{ticker}_{idx}.png\")\n",
        "                    ct += 1\n",
        "\n"
      ],
      "execution_count": 11,
      "outputs": []
    },
    {
      "cell_type": "code",
      "metadata": {
        "id": "yrR0oMrLTJHg"
      },
      "source": [
        "INPUT_PATH = \"gdrive/MyDrive/PriceData/PriceData\"\n",
        "TICKERS = [x.replace(\".csv\", \"\") for x in sample(listdir(INPUT_PATH), 50)]\n",
        "OUTPUT_PATH = \"gdrive/MyDrive/SequentialCandles\"\n",
        "PERIOD = 20\n"
      ],
      "execution_count": 12,
      "outputs": []
    },
    {
      "cell_type": "code",
      "metadata": {
        "id": "aNX7-GZbUjSg"
      },
      "source": [
        "ImageGenerator(INPUT_PATH, TICKERS, OUTPUT_PATH, PERIOD).generate()\n"
      ],
      "execution_count": null,
      "outputs": []
    }
  ]
}